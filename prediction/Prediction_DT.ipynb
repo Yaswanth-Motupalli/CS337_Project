{
  "cells": [
    {
      "cell_type": "code",
      "execution_count": 1,
      "metadata": {
        "id": "pMC3Om5F_cSs"
      },
      "outputs": [],
      "source": [
        "## handling csv file and data\n",
        "import numpy as np\n",
        "import pandas as pd\n",
        "\n",
        "## Plotting libraries\n",
        "import matplotlib.pyplot as plt\n",
        "%matplotlib inline\n",
        "import seaborn as sns\n",
        "\n",
        "## Labelencoding function\n",
        "from sklearn.preprocessing import LabelEncoder\n",
        "\n",
        "## Scaling function\n",
        "from sklearn.preprocessing import MinMaxScaler\n",
        "\n",
        "## SMOTE function(for oversampling of minor classes)\n",
        "from imblearn.over_sampling import SMOTE\n",
        "\n",
        "## Train-test split function and hyper parameter tuning function\n",
        "from sklearn.model_selection import train_test_split,GridSearchCV\n",
        "\n",
        "## Evaluation metrics functions\n",
        "from sklearn.metrics import accuracy_score, precision_score, recall_score, f1_score,confusion_matrix,ConfusionMatrixDisplay\n",
        "\n",
        "## For ignoring warnings(may not be necessary)\n",
        "import warnings\n",
        "warnings.filterwarnings('ignore')"
      ]
    },
    {
      "cell_type": "code",
      "execution_count": 2,
      "metadata": {
        "id": "GiXRcK6DBxLt"
      },
      "outputs": [],
      "source": [
        "## Required models from their respective libraries\n",
        "from sklearn.tree import DecisionTreeClassifier"
      ]
    },
    {
      "cell_type": "code",
      "execution_count": 3,
      "metadata": {
        "colab": {
          "base_uri": "https://localhost:8080/"
        },
        "id": "bFQ7WvP9xKvy",
        "outputId": "5d3afa88-ef56-466e-bd77-dfd2eec4b588"
      },
      "outputs": [
        {
          "output_type": "execute_result",
          "data": {
            "text/plain": [
              "(918, 12)"
            ]
          },
          "metadata": {},
          "execution_count": 3
        }
      ],
      "source": [
        "## importing dataset\n",
        "pred_or_sev = \"pred\"\n",
        "dataset = pd.read_csv(\"heart-95.csv\")\n",
        "dataset.shape"
      ]
    },
    {
      "cell_type": "code",
      "execution_count": 4,
      "metadata": {
        "id": "an-xJ4X47Sjl"
      },
      "outputs": [],
      "source": [
        "if pred_or_sev == \"pred\":\n",
        "  l=['Sex','ChestPainType','RestingECG','ExerciseAngina','ST_Slope']\n",
        "  for i in l:\n",
        "    lbl=LabelEncoder()\n",
        "    dataset[i] = lbl.fit_transform(dataset[i])\n",
        "elif pred_or_sev == \"sev\":\n",
        "  pass"
      ]
    },
    {
      "cell_type": "code",
      "execution_count": 5,
      "metadata": {
        "id": "uayy1qPDyPof"
      },
      "outputs": [],
      "source": [
        "predictors = dataset.drop(\"target\",axis=1)\n",
        "target = dataset[\"target\"]\n",
        "scaler = MinMaxScaler()\n",
        "predictors = scaler.fit_transform(predictors)"
      ]
    },
    {
      "cell_type": "code",
      "execution_count": 6,
      "metadata": {
        "id": "k_aiTyCkyUou"
      },
      "outputs": [],
      "source": [
        "X_train, X_test, Y_train, Y_test = train_test_split(predictors,target,test_size=0.20,random_state=0)\n",
        "\n",
        "oversample = SMOTE()\n",
        "predictors_SMOTE,target_SMOTE = oversample.fit_resample(predictors, target)\n",
        "X_train_SMOTE, X_test_SMOTE, Y_train_SMOTE, Y_test_SMOTE = train_test_split(predictors_SMOTE,target_SMOTE,test_size=0.20,random_state=0)\n"
      ]
    },
    {
      "cell_type": "code",
      "execution_count": 7,
      "metadata": {
        "id": "QKGD_cYZzP4u"
      },
      "outputs": [],
      "source": [
        "def best_model(model, parameters, X_train, Y_train,search = True):\n",
        "  if search == False:\n",
        "    model.fit(X_train, Y_train)\n",
        "    return model\n",
        "  else:\n",
        "    search_model = GridSearchCV(model, parameters, scoring='accuracy')\n",
        "    result = search_model.fit(X_train, Y_train)\n",
        "    return result"
      ]
    },
    {
      "cell_type": "code",
      "execution_count": 8,
      "metadata": {
        "id": "gZrriFtf06Xg"
      },
      "outputs": [],
      "source": [
        "model = DecisionTreeClassifier()\n",
        "\n",
        "parameters = [{'criterion':[\"gini\", \"entropy\", \"log_loss\"], 'splitter': ['best','random'],'max_depth': list(range(1,25)),'random_state':list(range(1,200)) }]\n"
      ]
    },
    {
      "cell_type": "code",
      "execution_count": 9,
      "metadata": {
        "id": "lcXJ-sEiGTEb"
      },
      "outputs": [],
      "source": [
        "def ac(Y_test, Y_pred):\n",
        "  return round(accuracy_score(Y_test,Y_pred)*100,2)\n",
        "\n",
        "def ps(Y_test, Y_pred):\n",
        "  if pred_or_sev == \"pred\":\n",
        "    return round(precision_score(Y_test,Y_pred)*100,2)\n",
        "  else:\n",
        "    return round(precision_score(Y_test,Y_pred, average='micro')*100,2)\n",
        "\n",
        "def rs(Y_test, Y_pred):\n",
        "  if pred_or_sev == \"pred\":\n",
        "    return round(recall_score(Y_test,Y_pred)*100,2)\n",
        "  else:\n",
        "    return round(recall_score(Y_test,Y_pred, average='micro')*100,2)\n",
        "\n",
        "def f1(Y_test, Y_pred):\n",
        "  if pred_or_sev == \"pred\":\n",
        "    return round(f1_score(Y_test,Y_pred)*100,2)\n",
        "  else:\n",
        "    return round(f1_score(Y_test,Y_pred, average='micro')*100,2)"
      ]
    },
    {
      "cell_type": "code",
      "execution_count": 10,
      "metadata": {
        "id": "jYIfK91L0u8U"
      },
      "outputs": [],
      "source": [
        "Y_pred = best_model(model, parameters, X_train, Y_train, False).predict(X_test)\n",
        "\n",
        "acc1 = ac(Y_test, Y_pred)\n",
        "\n",
        "prec1 = ps(Y_test, Y_pred)\n",
        "\n",
        "rec1 = rs(Y_test, Y_pred)\n",
        "\n",
        "f1_1 = f1(Y_test, Y_pred)"
      ]
    },
    {
      "cell_type": "code",
      "execution_count": 11,
      "metadata": {
        "id": "Bma9Hwb61-xL"
      },
      "outputs": [],
      "source": [
        "Y_pred = best_model(model, parameters, X_train_SMOTE, Y_train_SMOTE, False).predict(X_test_SMOTE)\n",
        "\n",
        "acc2 = ac(Y_test_SMOTE, Y_pred)\n",
        "\n",
        "prec2 = ps(Y_test_SMOTE, Y_pred)\n",
        "\n",
        "rec2 = rs(Y_test_SMOTE, Y_pred)\n",
        "\n",
        "f1_2 = f1(Y_test_SMOTE, Y_pred)"
      ]
    },
    {
      "cell_type": "code",
      "execution_count": 12,
      "metadata": {
        "colab": {
          "base_uri": "https://localhost:8080/"
        },
        "id": "tlFr32H11-ko",
        "outputId": "4a2708aa-b131-4c8f-d4da-771912feeef0"
      },
      "outputs": [
        {
          "output_type": "stream",
          "name": "stdout",
          "text": [
            "Best parameters without SMOTE are: {'criterion': 'gini', 'max_depth': 5, 'random_state': 40, 'splitter': 'random'}\n"
          ]
        }
      ],
      "source": [
        "result = best_model(model, parameters, X_train, Y_train, True)\n",
        "\n",
        "print(\"Best parameters without SMOTE are:\", result.best_params_)\n",
        "Y_pred = result.best_estimator_.predict(X_test)\n",
        "\n",
        "acc3 = ac(Y_test, Y_pred)\n",
        "\n",
        "prec3 = ps(Y_test, Y_pred)\n",
        "\n",
        "rec3 = rs(Y_test, Y_pred)\n",
        "\n",
        "f1_3 = f1(Y_test, Y_pred)"
      ]
    },
    {
      "cell_type": "code",
      "execution_count": 13,
      "metadata": {
        "colab": {
          "base_uri": "https://localhost:8080/"
        },
        "id": "yMAOscWL19-c",
        "outputId": "d5af5f67-bdd4-4579-bb1d-5eba33288bfc"
      },
      "outputs": [
        {
          "output_type": "stream",
          "name": "stdout",
          "text": [
            "Best parameters with SMOTE are: {'criterion': 'entropy', 'max_depth': 6, 'random_state': 22, 'splitter': 'random'}\n"
          ]
        }
      ],
      "source": [
        "result = best_model(model, parameters, X_train_SMOTE, Y_train_SMOTE, True)\n",
        "\n",
        "print(\"Best parameters with SMOTE are:\", result.best_params_)\n",
        "Y_pred = result.best_estimator_.predict(X_test_SMOTE)\n",
        "\n",
        "acc4 = ac(Y_test_SMOTE, Y_pred)\n",
        "\n",
        "prec4 = ps(Y_test_SMOTE, Y_pred)\n",
        "\n",
        "rec4 = rs(Y_test_SMOTE, Y_pred)\n",
        "\n",
        "f1_4 = f1(Y_test_SMOTE, Y_pred)"
      ]
    },
    {
      "cell_type": "code",
      "execution_count": 14,
      "metadata": {
        "colab": {
          "base_uri": "https://localhost:8080/",
          "height": 206
        },
        "id": "_X6X25mf5Wce",
        "outputId": "151daadc-bd3f-4936-bffb-e9c6da646526"
      },
      "outputs": [
        {
          "output_type": "display_data",
          "data": {
            "text/plain": [
              "<pandas.io.formats.style.Styler at 0x7da05589bc10>"
            ],
            "text/html": [
              "<style type=\"text/css\">\n",
              "#T_d309d_row0_col0, #T_d309d_row0_col1, #T_d309d_row0_col2, #T_d309d_row0_col3, #T_d309d_row1_col0, #T_d309d_row1_col1, #T_d309d_row1_col2, #T_d309d_row1_col3, #T_d309d_row2_col0, #T_d309d_row2_col1, #T_d309d_row2_col2, #T_d309d_row2_col3, #T_d309d_row3_col0, #T_d309d_row3_col1, #T_d309d_row3_col2, #T_d309d_row3_col3 {\n",
              "  text-align: center;\n",
              "}\n",
              "</style>\n",
              "<table id=\"T_d309d\" class=\"dataframe\">\n",
              "  <thead>\n",
              "    <tr>\n",
              "      <th class=\"index_name level0\" >Metric</th>\n",
              "      <th id=\"T_d309d_level0_col0\" class=\"col_heading level0 col0\" colspan=\"2\">Without gridsearch</th>\n",
              "      <th id=\"T_d309d_level0_col2\" class=\"col_heading level0 col2\" colspan=\"2\">With gridsearch</th>\n",
              "    </tr>\n",
              "    <tr>\n",
              "      <th class=\"index_name level1\" ></th>\n",
              "      <th id=\"T_d309d_level1_col0\" class=\"col_heading level1 col0\" >Without SMOTE</th>\n",
              "      <th id=\"T_d309d_level1_col1\" class=\"col_heading level1 col1\" >With SMOTE</th>\n",
              "      <th id=\"T_d309d_level1_col2\" class=\"col_heading level1 col2\" >Without SMOTE</th>\n",
              "      <th id=\"T_d309d_level1_col3\" class=\"col_heading level1 col3\" >With SMOTE</th>\n",
              "    </tr>\n",
              "  </thead>\n",
              "  <tbody>\n",
              "    <tr>\n",
              "      <th id=\"T_d309d_level0_row0\" class=\"row_heading level0 row0\" >accuracy</th>\n",
              "      <td id=\"T_d309d_row0_col0\" class=\"data row0 col0\" >76.63</td>\n",
              "      <td id=\"T_d309d_row0_col1\" class=\"data row0 col1\" >77.45</td>\n",
              "      <td id=\"T_d309d_row0_col2\" class=\"data row0 col2\" >84.78</td>\n",
              "      <td id=\"T_d309d_row0_col3\" class=\"data row0 col3\" >83.33</td>\n",
              "    </tr>\n",
              "    <tr>\n",
              "      <th id=\"T_d309d_level0_row1\" class=\"row_heading level0 row1\" >precision</th>\n",
              "      <td id=\"T_d309d_row1_col0\" class=\"data row1 col0\" >84.04</td>\n",
              "      <td id=\"T_d309d_row1_col1\" class=\"data row1 col1\" >78.85</td>\n",
              "      <td id=\"T_d309d_row1_col2\" class=\"data row1 col2\" >86.92</td>\n",
              "      <td id=\"T_d309d_row1_col3\" class=\"data row1 col3\" >81.58</td>\n",
              "    </tr>\n",
              "    <tr>\n",
              "      <th id=\"T_d309d_level0_row2\" class=\"row_heading level0 row2\" >recall</th>\n",
              "      <td id=\"T_d309d_row2_col0\" class=\"data row2 col0\" >73.83</td>\n",
              "      <td id=\"T_d309d_row2_col1\" class=\"data row2 col1\" >77.36</td>\n",
              "      <td id=\"T_d309d_row2_col2\" class=\"data row2 col2\" >86.92</td>\n",
              "      <td id=\"T_d309d_row2_col3\" class=\"data row2 col3\" >87.74</td>\n",
              "    </tr>\n",
              "    <tr>\n",
              "      <th id=\"T_d309d_level0_row3\" class=\"row_heading level0 row3\" >f1</th>\n",
              "      <td id=\"T_d309d_row3_col0\" class=\"data row3 col0\" >78.61</td>\n",
              "      <td id=\"T_d309d_row3_col1\" class=\"data row3 col1\" >78.10</td>\n",
              "      <td id=\"T_d309d_row3_col2\" class=\"data row3 col2\" >86.92</td>\n",
              "      <td id=\"T_d309d_row3_col3\" class=\"data row3 col3\" >84.55</td>\n",
              "    </tr>\n",
              "  </tbody>\n",
              "</table>\n"
            ]
          },
          "metadata": {}
        }
      ],
      "source": [
        "import pandas as pd\n",
        "from pandas.io.formats.style import Styler\n",
        "\n",
        "column_names = pd.DataFrame([[\"Without gridsearch\", \"Without SMOTE\"],\n",
        "                             [\"Without gridsearch\", \"With SMOTE\"],\n",
        "                             [\"With gridsearch\", \"Without SMOTE\"],\n",
        "                             [\"With gridsearch\", \"With SMOTE\"]],\n",
        "                             columns=[\"Metric\", \"\"])\n",
        "\n",
        "rows = [[acc1, acc2,acc3,acc4],\n",
        "        [prec1, prec2,prec3,prec4],\n",
        "        [rec1,rec2,rec3,rec4],\n",
        "        [f1_1,f1_2,f1_3,f1_4]]\n",
        "\n",
        "columns = pd.MultiIndex.from_frame(column_names)\n",
        "index = [\"accuracy\", \"precision\", \"recall\", \"f1\"]\n",
        "\n",
        "df = pd.DataFrame(rows, columns=columns, index=index)\n",
        "\n",
        "styler = Styler(df,precision = 2)\n",
        "styler.set_properties(**{'text-align': 'center'})\n",
        "\n",
        "display(styler)"
      ]
    },
    {
      "cell_type": "code",
      "execution_count": 15,
      "metadata": {
        "id": "9qOPiikM1rid"
      },
      "outputs": [],
      "source": [
        "labels = [0,1]\n",
        "if pred_or_sev == \"sev\":\n",
        "    labels = [0,1,2,3,4]"
      ]
    },
    {
      "cell_type": "code",
      "execution_count": 16,
      "metadata": {
        "colab": {
          "base_uri": "https://localhost:8080/",
          "height": 466
        },
        "id": "9o5ejHE_1rid",
        "outputId": "e11b5374-11eb-4947-bdc7-2fafbe008338"
      },
      "outputs": [
        {
          "output_type": "display_data",
          "data": {
            "text/plain": [
              "<Figure size 640x480 with 2 Axes>"
            ],
            "image/png": "[encoded data removed]"
          },
          "metadata": {}
        },
        {
          "output_type": "display_data",
          "data": {
            "text/plain": [
              "<Figure size 640x480 with 0 Axes>"
            ]
          },
          "metadata": {}
        }
      ],
      "source": [
        "c = confusion_matrix(Y_test_SMOTE, Y_pred)\n",
        "\n",
        "cm_display = ConfusionMatrixDisplay(confusion_matrix = c, display_labels = labels)\n",
        "\n",
        "cm_display.plot()\n",
        "plt.show()\n",
        "plt.savefig(\"Confusion_matrix_DT.png\")"
      ]
    }
  ],
  "metadata": {
    "accelerator": "GPU",
    "colab": {
      "gpuType": "T4",
      "provenance": []
    },
    "kernelspec": {
      "display_name": "Python 3",
      "name": "python3"
    },
    "language_info": {
      "codemirror_mode": {
        "name": "ipython",
        "version": 3
      },
      "file_extension": ".py",
      "mimetype": "text/x-python",
      "name": "python",
      "nbconvert_exporter": "python",
      "pygments_lexer": "ipython3",
      "version": "3.10.12"
    }
  },
  "nbformat": 4,
  "nbformat_minor": 0
}