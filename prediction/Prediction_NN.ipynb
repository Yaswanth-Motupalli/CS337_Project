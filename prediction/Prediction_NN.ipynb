{
  "cells": [
    {
      "cell_type": "code",
      "source": [
        "!pip install scikeras"
      ],
      "metadata": {
        "colab": {
          "base_uri": "https://localhost:8080/"
        },
        "id": "CIuAjFaJPFh9",
        "outputId": "97c533e2-ba24-4a65-b779-f57fdb1a305b"
      },
      "execution_count": 5,
      "outputs": [
        {
          "output_type": "stream",
          "name": "stdout",
          "text": [
            "Requirement already satisfied: scikeras in /usr/local/lib/python3.10/dist-packages (0.12.0)\n",
            "Requirement already satisfied: packaging>=0.21 in /usr/local/lib/python3.10/dist-packages (from scikeras) (23.2)\n",
            "Requirement already satisfied: scikit-learn>=1.0.0 in /usr/local/lib/python3.10/dist-packages (from scikeras) (1.2.2)\n",
            "Requirement already satisfied: numpy>=1.17.3 in /usr/local/lib/python3.10/dist-packages (from scikit-learn>=1.0.0->scikeras) (1.23.5)\n",
            "Requirement already satisfied: scipy>=1.3.2 in /usr/local/lib/python3.10/dist-packages (from scikit-learn>=1.0.0->scikeras) (1.11.4)\n",
            "Requirement already satisfied: joblib>=1.1.1 in /usr/local/lib/python3.10/dist-packages (from scikit-learn>=1.0.0->scikeras) (1.3.2)\n",
            "Requirement already satisfied: threadpoolctl>=2.0.0 in /usr/local/lib/python3.10/dist-packages (from scikit-learn>=1.0.0->scikeras) (3.2.0)\n"
          ]
        }
      ]
    },
    {
      "cell_type": "code",
      "execution_count": 6,
      "metadata": {
        "id": "pMC3Om5F_cSs"
      },
      "outputs": [],
      "source": [
        "## handling csv file and data\n",
        "import numpy as np\n",
        "import pandas as pd\n",
        "\n",
        "## Plotting libraries\n",
        "import matplotlib.pyplot as plt\n",
        "%matplotlib inline\n",
        "import seaborn as sns\n",
        "\n",
        "## Labelencoding function\n",
        "from sklearn.preprocessing import LabelEncoder\n",
        "\n",
        "## Scaling function\n",
        "from sklearn.preprocessing import MinMaxScaler\n",
        "\n",
        "## SMOTE function(for oversampling of minor classes)\n",
        "from imblearn.over_sampling import SMOTE\n",
        "\n",
        "## Train-test split function and hyper parameter tuning function\n",
        "from sklearn.model_selection import train_test_split,GridSearchCV\n",
        "\n",
        "## Evaluation metrics functions\n",
        "from sklearn.metrics import accuracy_score, precision_score, recall_score, f1_score,confusion_matrix,ConfusionMatrixDisplay\n",
        "\n",
        "## For ignoring warnings(may not be necessary)\n",
        "import warnings\n",
        "warnings.filterwarnings('ignore')"
      ]
    },
    {
      "cell_type": "code",
      "execution_count": 7,
      "metadata": {
        "id": "GiXRcK6DBxLt"
      },
      "outputs": [],
      "source": [
        "## Required models from their respective libraries\n",
        "from keras.models import Sequential\n",
        "from keras.layers import Dense\n",
        "from scikeras.wrappers import KerasClassifier"
      ]
    },
    {
      "cell_type": "code",
      "execution_count": 8,
      "metadata": {
        "colab": {
          "base_uri": "https://localhost:8080/"
        },
        "id": "bFQ7WvP9xKvy",
        "outputId": "4643f0bb-fd4b-44e0-f5b8-2aa6d2a7a83c"
      },
      "outputs": [
        {
          "output_type": "execute_result",
          "data": {
            "text/plain": [
              "(918, 12)"
            ]
          },
          "metadata": {},
          "execution_count": 8
        }
      ],
      "source": [
        "## importing dataset\n",
        "pred_or_sev = \"pred\"\n",
        "dataset = pd.read_csv(\"heart-95.csv\")\n",
        "dataset.shape"
      ]
    },
    {
      "cell_type": "code",
      "execution_count": 9,
      "metadata": {
        "id": "an-xJ4X47Sjl"
      },
      "outputs": [],
      "source": [
        "if pred_or_sev == \"pred\":\n",
        "  l=['Sex','ChestPainType','RestingECG','ExerciseAngina','ST_Slope']\n",
        "  for i in l:\n",
        "    lbl=LabelEncoder()\n",
        "    dataset[i] = lbl.fit_transform(dataset[i])\n",
        "elif pred_or_sev == \"sev\":\n",
        "  pass"
      ]
    },
    {
      "cell_type": "code",
      "execution_count": 10,
      "metadata": {
        "id": "uayy1qPDyPof"
      },
      "outputs": [],
      "source": [
        "predictors = dataset.drop(\"target\",axis=1)\n",
        "target = dataset[\"target\"]\n",
        "scaler = MinMaxScaler()\n",
        "predictors = scaler.fit_transform(predictors)"
      ]
    },
    {
      "cell_type": "code",
      "execution_count": 11,
      "metadata": {
        "id": "k_aiTyCkyUou"
      },
      "outputs": [],
      "source": [
        "X_train, X_test, Y_train, Y_test = train_test_split(predictors,target,test_size=0.20,random_state=0)\n",
        "\n",
        "oversample = SMOTE()\n",
        "predictors_SMOTE,target_SMOTE = oversample.fit_resample(predictors, target)\n",
        "X_train_SMOTE, X_test_SMOTE, Y_train_SMOTE, Y_test_SMOTE = train_test_split(predictors_SMOTE,target_SMOTE,test_size=0.20,random_state=0)\n"
      ]
    },
    {
      "cell_type": "code",
      "execution_count": 12,
      "metadata": {
        "id": "gZrriFtf06Xg"
      },
      "outputs": [],
      "source": [
        "def create_model(optimizer='adam', activation='relu', neurons=64):\n",
        "    model = Sequential()\n",
        "    input_dim = 14\n",
        "    if pred_or_sev == \"pred\":\n",
        "      input_dim = 11\n",
        "    model.add(Dense(neurons, input_dim=input_dim, activation=activation))\n",
        "    model.add(Dense(1, activation='sigmoid'))\n",
        "    model.compile(loss='binary_crossentropy', optimizer=optimizer, metrics=['accuracy'])\n",
        "    return model\n",
        "\n",
        "# Define the hyperparameters grid\n",
        "parameters = {\n",
        "    'batch_size': [16, 32, 64],\n",
        "    'epochs': [10, 20, 30],\n",
        "    'neurons': [32, 64, 128],\n",
        "    'optimizer': ['adam', 'rmsprop'],\n",
        "    'activation': ['relu', 'tanh']\n",
        "}\n",
        "\n",
        "# Create a KerasClassifier based on the model\n",
        "model = KerasClassifier(build_fn=create_model, verbose=0)"
      ]
    },
    {
      "cell_type": "code",
      "source": [
        "print(model)"
      ],
      "metadata": {
        "colab": {
          "base_uri": "https://localhost:8080/"
        },
        "id": "iCbUz6tGQxuw",
        "outputId": "ee29cb19-75f2-44d1-f3e6-67bcf526a2ef"
      },
      "execution_count": 13,
      "outputs": [
        {
          "output_type": "stream",
          "name": "stdout",
          "text": [
            "KerasClassifier(\n",
            "\tmodel=None\n",
            "\tbuild_fn=<function create_model at 0x7917654695a0>\n",
            "\twarm_start=False\n",
            "\trandom_state=None\n",
            "\toptimizer=rmsprop\n",
            "\tloss=None\n",
            "\tmetrics=None\n",
            "\tbatch_size=None\n",
            "\tvalidation_batch_size=None\n",
            "\tverbose=0\n",
            "\tcallbacks=None\n",
            "\tvalidation_split=0.0\n",
            "\tshuffle=True\n",
            "\trun_eagerly=False\n",
            "\tepochs=1\n",
            "\tclass_weight=None\n",
            ")\n"
          ]
        }
      ]
    },
    {
      "cell_type": "code",
      "execution_count": 14,
      "metadata": {
        "id": "lcXJ-sEiGTEb"
      },
      "outputs": [],
      "source": [
        "def ac(Y_test, Y_pred):\n",
        "  return round(accuracy_score(Y_test,Y_pred)*100,2)\n",
        "\n",
        "def ps(Y_test, Y_pred):\n",
        "  if pred_or_sev == \"pred\":\n",
        "    return round(precision_score(Y_test,Y_pred)*100,2)\n",
        "  else:\n",
        "    return round(precision_score(Y_test,Y_pred, average='micro')*100,2)\n",
        "\n",
        "def rs(Y_test, Y_pred):\n",
        "  if pred_or_sev == \"pred\":\n",
        "    return round(recall_score(Y_test,Y_pred)*100,2)\n",
        "  else:\n",
        "    return round(recall_score(Y_test,Y_pred, average='micro')*100,2)\n",
        "\n",
        "def f1(Y_test, Y_pred):\n",
        "  if pred_or_sev == \"pred\":\n",
        "    return round(f1_score(Y_test,Y_pred)*100,2)\n",
        "  else:\n",
        "    return round(f1_score(Y_test,Y_pred, average='micro')*100,2)"
      ]
    },
    {
      "cell_type": "code",
      "execution_count": 15,
      "metadata": {
        "id": "tlFr32H11-ko"
      },
      "outputs": [],
      "source": [
        "model.fit(X_train,Y_train)\n",
        "Y_pred = model.predict(X_test)\n",
        "\n",
        "acc3 = ac(Y_test, Y_pred)\n",
        "\n",
        "prec3 = ps(Y_test, Y_pred)\n",
        "\n",
        "rec3 = rs(Y_test, Y_pred)\n",
        "\n",
        "f1_3 = f1(Y_test, Y_pred)"
      ]
    },
    {
      "cell_type": "code",
      "execution_count": 16,
      "metadata": {
        "id": "yMAOscWL19-c"
      },
      "outputs": [],
      "source": [
        "model.fit(X_train,Y_train)\n",
        "Y_pred = model.predict(X_test_SMOTE)\n",
        "\n",
        "acc4 = ac(Y_test_SMOTE, Y_pred)\n",
        "\n",
        "prec4 = ps(Y_test_SMOTE, Y_pred)\n",
        "\n",
        "rec4 = rs(Y_test_SMOTE, Y_pred)\n",
        "\n",
        "f1_4 = f1(Y_test_SMOTE, Y_pred)"
      ]
    },
    {
      "cell_type": "code",
      "execution_count": 17,
      "metadata": {
        "colab": {
          "base_uri": "https://localhost:8080/",
          "height": 206
        },
        "id": "_X6X25mf5Wce",
        "outputId": "06982b54-b8d7-445a-ff51-007c4baa87fa"
      },
      "outputs": [
        {
          "output_type": "display_data",
          "data": {
            "text/plain": [
              "<pandas.io.formats.style.Styler at 0x7916c1e8f250>"
            ],
            "text/html": [
              "<style type=\"text/css\">\n",
              "#T_d4493_row0_col0, #T_d4493_row0_col1, #T_d4493_row1_col0, #T_d4493_row1_col1, #T_d4493_row2_col0, #T_d4493_row2_col1, #T_d4493_row3_col0, #T_d4493_row3_col1 {\n",
              "  text-align: center;\n",
              "}\n",
              "</style>\n",
              "<table id=\"T_d4493\" class=\"dataframe\">\n",
              "  <thead>\n",
              "    <tr>\n",
              "      <th class=\"index_name level0\" >Metric</th>\n",
              "      <th id=\"T_d4493_level0_col0\" class=\"col_heading level0 col0\" colspan=\"2\">With gridsearch</th>\n",
              "    </tr>\n",
              "    <tr>\n",
              "      <th class=\"index_name level1\" ></th>\n",
              "      <th id=\"T_d4493_level1_col0\" class=\"col_heading level1 col0\" >Without SMOTE</th>\n",
              "      <th id=\"T_d4493_level1_col1\" class=\"col_heading level1 col1\" >With SMOTE</th>\n",
              "    </tr>\n",
              "  </thead>\n",
              "  <tbody>\n",
              "    <tr>\n",
              "      <th id=\"T_d4493_level0_row0\" class=\"row_heading level0 row0\" >accuracy</th>\n",
              "      <td id=\"T_d4493_row0_col0\" class=\"data row0 col0\" >78.26</td>\n",
              "      <td id=\"T_d4493_row0_col1\" class=\"data row0 col1\" >65.20</td>\n",
              "    </tr>\n",
              "    <tr>\n",
              "      <th id=\"T_d4493_level0_row1\" class=\"row_heading level0 row1\" >precision</th>\n",
              "      <td id=\"T_d4493_row1_col0\" class=\"data row1 col0\" >77.69</td>\n",
              "      <td id=\"T_d4493_row1_col1\" class=\"data row1 col1\" >60.61</td>\n",
              "    </tr>\n",
              "    <tr>\n",
              "      <th id=\"T_d4493_level0_row2\" class=\"row_heading level0 row2\" >recall</th>\n",
              "      <td id=\"T_d4493_row2_col0\" class=\"data row2 col0\" >87.85</td>\n",
              "      <td id=\"T_d4493_row2_col1\" class=\"data row2 col1\" >94.34</td>\n",
              "    </tr>\n",
              "    <tr>\n",
              "      <th id=\"T_d4493_level0_row3\" class=\"row_heading level0 row3\" >f1</th>\n",
              "      <td id=\"T_d4493_row3_col0\" class=\"data row3 col0\" >82.46</td>\n",
              "      <td id=\"T_d4493_row3_col1\" class=\"data row3 col1\" >73.80</td>\n",
              "    </tr>\n",
              "  </tbody>\n",
              "</table>\n"
            ]
          },
          "metadata": {}
        }
      ],
      "source": [
        "import pandas as pd\n",
        "from pandas.io.formats.style import Styler\n",
        "\n",
        "column_names = pd.DataFrame([[\"With gridsearch\", \"Without SMOTE\"],\n",
        "                             [\"With gridsearch\", \"With SMOTE\"]],\n",
        "                             columns=[\"Metric\", \"\"])\n",
        "\n",
        "rows = [[acc3,acc4],\n",
        "        [prec3,prec4],\n",
        "        [rec3,rec4],\n",
        "        [f1_3,f1_4]]\n",
        "\n",
        "columns = pd.MultiIndex.from_frame(column_names)\n",
        "index = [\"accuracy\", \"precision\", \"recall\", \"f1\"]\n",
        "\n",
        "df = pd.DataFrame(rows, columns=columns, index=index)\n",
        "\n",
        "styler = Styler(df,precision = 2)\n",
        "styler.set_properties(**{'text-align': 'center'})\n",
        "\n",
        "display(styler)"
      ]
    },
    {
      "cell_type": "code",
      "execution_count": 18,
      "metadata": {
        "id": "YMNWIRcj2fRB"
      },
      "outputs": [],
      "source": [
        "labels = [0,1]\n",
        "if pred_or_sev == \"sev\":\n",
        "    labels = [0,1,2,3,4]"
      ]
    },
    {
      "cell_type": "code",
      "execution_count": 19,
      "metadata": {
        "colab": {
          "base_uri": "https://localhost:8080/",
          "height": 472
        },
        "id": "pO1m5aXj2fRC",
        "outputId": "04260e86-24ea-492e-9aa8-b187100a900f"
      },
      "outputs": [
        {
          "output_type": "display_data",
          "data": {
            "text/plain": [
              "<Figure size 640x480 with 2 Axes>"
            ],
            "image/png": "[encoded data removed]"
          },
          "metadata": {}
        },
        {
          "output_type": "display_data",
          "data": {
            "text/plain": [
              "<Figure size 640x480 with 0 Axes>"
            ]
          },
          "metadata": {}
        }
      ],
      "source": [
        "c = confusion_matrix(Y_test_SMOTE, Y_pred)\n",
        "\n",
        "cm_display = ConfusionMatrixDisplay(confusion_matrix = c, display_labels = labels)\n",
        "\n",
        "cm_display.plot()\n",
        "plt.show()\n",
        "plt.savefig(\"Confusion_matrix_NN.png\")"
      ]
    }
  ],
  "metadata": {
    "accelerator": "GPU",
    "colab": {
      "gpuType": "T4",
      "provenance": []
    },
    "kernelspec": {
      "display_name": "Python 3",
      "name": "python3"
    },
    "language_info": {
      "codemirror_mode": {
        "name": "ipython",
        "version": 3
      },
      "file_extension": ".py",
      "mimetype": "text/x-python",
      "name": "python",
      "nbconvert_exporter": "python",
      "pygments_lexer": "ipython3",
      "version": "3.10.12"
    }
  },
  "nbformat": 4,
  "nbformat_minor": 0
}