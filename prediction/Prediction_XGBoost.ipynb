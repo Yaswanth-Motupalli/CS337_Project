{
  "cells": [
    {
      "cell_type": "code",
      "execution_count": 17,
      "metadata": {
        "id": "pMC3Om5F_cSs"
      },
      "outputs": [],
      "source": [
        "## handling csv file and data\n",
        "import numpy as np\n",
        "import pandas as pd\n",
        "\n",
        "## Plotting libraries\n",
        "import matplotlib.pyplot as plt\n",
        "%matplotlib inline\n",
        "import seaborn as sns\n",
        "\n",
        "## Labelencoding function\n",
        "from sklearn.preprocessing import LabelEncoder\n",
        "\n",
        "## Scaling function\n",
        "from sklearn.preprocessing import MinMaxScaler\n",
        "\n",
        "## SMOTE function(for oversampling of minor classes)\n",
        "from imblearn.over_sampling import SMOTE\n",
        "\n",
        "## Train-test split function and hyper parameter tuning function\n",
        "from sklearn.model_selection import train_test_split,GridSearchCV\n",
        "\n",
        "## Evaluation metrics functions\n",
        "from sklearn.metrics import accuracy_score, precision_score, recall_score, f1_score,confusion_matrix,ConfusionMatrixDisplay\n",
        "\n",
        "## For ignoring warnings(may not be necessary)\n",
        "import warnings\n",
        "warnings.filterwarnings('ignore')"
      ]
    },
    {
      "cell_type": "code",
      "execution_count": 18,
      "metadata": {
        "id": "GiXRcK6DBxLt"
      },
      "outputs": [],
      "source": [
        "## Required models from their respective libraries\n",
        "import xgboost as xgb"
      ]
    },
    {
      "cell_type": "code",
      "execution_count": 19,
      "metadata": {
        "colab": {
          "base_uri": "https://localhost:8080/"
        },
        "id": "bFQ7WvP9xKvy",
        "outputId": "a91616f5-edb4-4e1f-d0a7-c0471e3155cf"
      },
      "outputs": [
        {
          "output_type": "execute_result",
          "data": {
            "text/plain": [
              "(918, 12)"
            ]
          },
          "metadata": {},
          "execution_count": 19
        }
      ],
      "source": [
        "## importing dataset\n",
        "pred_or_sev = \"pred\"\n",
        "dataset = pd.read_csv(\"heart-95.csv\")\n",
        "dataset.shape"
      ]
    },
    {
      "cell_type": "code",
      "execution_count": 20,
      "metadata": {
        "id": "an-xJ4X47Sjl"
      },
      "outputs": [],
      "source": [
        "if pred_or_sev == \"pred\":\n",
        "  l=['Sex','ChestPainType','RestingECG','ExerciseAngina','ST_Slope']\n",
        "  for i in l:\n",
        "    lbl=LabelEncoder()\n",
        "    dataset[i] = lbl.fit_transform(dataset[i])\n",
        "elif pred_or_sev == \"sev\":\n",
        "  pass"
      ]
    },
    {
      "cell_type": "code",
      "execution_count": 21,
      "metadata": {
        "id": "uayy1qPDyPof"
      },
      "outputs": [],
      "source": [
        "predictors = dataset.drop(\"target\",axis=1)\n",
        "target = dataset[\"target\"]\n",
        "scaler = MinMaxScaler()\n",
        "predictors = scaler.fit_transform(predictors)"
      ]
    },
    {
      "cell_type": "code",
      "execution_count": 22,
      "metadata": {
        "id": "k_aiTyCkyUou"
      },
      "outputs": [],
      "source": [
        "X_train, X_test, Y_train, Y_test = train_test_split(predictors,target,test_size=0.20,random_state=0)\n",
        "\n",
        "oversample = SMOTE()\n",
        "predictors_SMOTE,target_SMOTE = oversample.fit_resample(predictors, target)\n",
        "X_train_SMOTE, X_test_SMOTE, Y_train_SMOTE, Y_test_SMOTE = train_test_split(predictors_SMOTE,target_SMOTE,test_size=0.20,random_state=0)\n"
      ]
    },
    {
      "cell_type": "code",
      "execution_count": 23,
      "metadata": {
        "id": "QKGD_cYZzP4u"
      },
      "outputs": [],
      "source": [
        "def best_model(model, parameters, X_train, Y_train,search = True):\n",
        "  if search == False:\n",
        "    model.fit(X_train, Y_train)\n",
        "    return model\n",
        "  else:\n",
        "    search_model = GridSearchCV(model, parameters, scoring='accuracy')\n",
        "    result = search_model.fit(X_train, Y_train)\n",
        "    return result"
      ]
    },
    {
      "cell_type": "code",
      "execution_count": 24,
      "metadata": {
        "id": "gZrriFtf06Xg"
      },
      "outputs": [],
      "source": [
        "model = xgb.XGBClassifier()\n",
        "\n",
        "parameters = {\n",
        "    'learning_rate': [0.1, 0.01, 0.001],\n",
        "    'max_depth': [3, 5, 7],\n",
        "    'min_child_weight': [1, 3, 5],\n",
        "    'subsample': [0.7, 0.8, 0.9],\n",
        "    'colsample_bytree': [0.7, 0.8, 0.9],\n",
        "    'n_estimators': [100, 200, 300]\n",
        "}"
      ]
    },
    {
      "cell_type": "code",
      "execution_count": 25,
      "metadata": {
        "id": "lcXJ-sEiGTEb"
      },
      "outputs": [],
      "source": [
        "def ac(Y_test, Y_pred):\n",
        "  return round(accuracy_score(Y_test,Y_pred)*100,2)\n",
        "\n",
        "def ps(Y_test, Y_pred):\n",
        "  if pred_or_sev == \"pred\":\n",
        "    return round(precision_score(Y_test,Y_pred)*100,2)\n",
        "  else:\n",
        "    return round(precision_score(Y_test,Y_pred, average='micro')*100,2)\n",
        "\n",
        "def rs(Y_test, Y_pred):\n",
        "  if pred_or_sev == \"pred\":\n",
        "    return round(recall_score(Y_test,Y_pred)*100,2)\n",
        "  else:\n",
        "    return round(recall_score(Y_test,Y_pred, average='micro')*100,2)\n",
        "\n",
        "def f1(Y_test, Y_pred):\n",
        "  if pred_or_sev == \"pred\":\n",
        "    return round(f1_score(Y_test,Y_pred)*100,2)\n",
        "  else:\n",
        "    return round(f1_score(Y_test,Y_pred, average='micro')*100,2)"
      ]
    },
    {
      "cell_type": "code",
      "execution_count": 26,
      "metadata": {
        "id": "jYIfK91L0u8U"
      },
      "outputs": [],
      "source": [
        "Y_pred = best_model(model, parameters, X_train, Y_train, False).predict(X_test)\n",
        "\n",
        "acc1 = ac(Y_test, Y_pred)\n",
        "\n",
        "prec1 = ps(Y_test, Y_pred)\n",
        "\n",
        "rec1 = rs(Y_test, Y_pred)\n",
        "\n",
        "f1_1 = f1(Y_test, Y_pred)"
      ]
    },
    {
      "cell_type": "code",
      "execution_count": 27,
      "metadata": {
        "id": "Bma9Hwb61-xL"
      },
      "outputs": [],
      "source": [
        "Y_pred = best_model(model, parameters, X_train_SMOTE, Y_train_SMOTE, False).predict(X_test_SMOTE)\n",
        "\n",
        "acc2 = ac(Y_test_SMOTE, Y_pred)\n",
        "\n",
        "prec2 = ps(Y_test_SMOTE, Y_pred)\n",
        "\n",
        "rec2 = rs(Y_test_SMOTE, Y_pred)\n",
        "\n",
        "f1_2 = f1(Y_test_SMOTE, Y_pred)"
      ]
    },
    {
      "cell_type": "code",
      "execution_count": 28,
      "metadata": {
        "colab": {
          "base_uri": "https://localhost:8080/"
        },
        "id": "tlFr32H11-ko",
        "outputId": "d2f8ba02-1500-4c4c-820e-8dd240d7c8b1"
      },
      "outputs": [
        {
          "output_type": "stream",
          "name": "stdout",
          "text": [
            "Best parameters without SMOTE are: {'colsample_bytree': 0.7, 'learning_rate': 0.01, 'max_depth': 7, 'min_child_weight': 1, 'n_estimators': 200, 'subsample': 0.8}\n"
          ]
        }
      ],
      "source": [
        "result = best_model(model, parameters, X_train, Y_train, True)\n",
        "\n",
        "print(\"Best parameters without SMOTE are:\", result.best_params_)\n",
        "Y_pred = result.best_estimator_.predict(X_test)\n",
        "\n",
        "acc3 = ac(Y_test, Y_pred)\n",
        "\n",
        "prec3 = ps(Y_test, Y_pred)\n",
        "\n",
        "rec3 = rs(Y_test, Y_pred)\n",
        "\n",
        "f1_3 = f1(Y_test, Y_pred)"
      ]
    },
    {
      "cell_type": "code",
      "execution_count": 29,
      "metadata": {
        "colab": {
          "base_uri": "https://localhost:8080/"
        },
        "id": "yMAOscWL19-c",
        "outputId": "1178dc95-8e5d-4dfb-dbcb-60022b6b1724"
      },
      "outputs": [
        {
          "output_type": "stream",
          "name": "stdout",
          "text": [
            "Best parameters with SMOTE are: {'colsample_bytree': 0.8, 'learning_rate': 0.1, 'max_depth': 3, 'min_child_weight': 5, 'n_estimators': 100, 'subsample': 0.7}\n"
          ]
        }
      ],
      "source": [
        "result = best_model(model, parameters, X_train_SMOTE, Y_train_SMOTE, True)\n",
        "\n",
        "print(\"Best parameters with SMOTE are:\", result.best_params_)\n",
        "Y_pred = result.best_estimator_.predict(X_test_SMOTE)\n",
        "\n",
        "acc4 = ac(Y_test_SMOTE, Y_pred)\n",
        "\n",
        "prec4 = ps(Y_test_SMOTE, Y_pred)\n",
        "\n",
        "rec4 = rs(Y_test_SMOTE, Y_pred)\n",
        "\n",
        "f1_4 = f1(Y_test_SMOTE, Y_pred)"
      ]
    },
    {
      "cell_type": "code",
      "execution_count": 30,
      "metadata": {
        "colab": {
          "base_uri": "https://localhost:8080/",
          "height": 206
        },
        "id": "_X6X25mf5Wce",
        "outputId": "3aaac872-22e7-4c6a-e9a2-4e83db900f87"
      },
      "outputs": [
        {
          "output_type": "display_data",
          "data": {
            "text/plain": [
              "<pandas.io.formats.style.Styler at 0x7a46e3515060>"
            ],
            "text/html": [
              "<style type=\"text/css\">\n",
              "#T_a6986_row0_col0, #T_a6986_row0_col1, #T_a6986_row0_col2, #T_a6986_row0_col3, #T_a6986_row1_col0, #T_a6986_row1_col1, #T_a6986_row1_col2, #T_a6986_row1_col3, #T_a6986_row2_col0, #T_a6986_row2_col1, #T_a6986_row2_col2, #T_a6986_row2_col3, #T_a6986_row3_col0, #T_a6986_row3_col1, #T_a6986_row3_col2, #T_a6986_row3_col3 {\n",
              "  text-align: center;\n",
              "}\n",
              "</style>\n",
              "<table id=\"T_a6986\" class=\"dataframe\">\n",
              "  <thead>\n",
              "    <tr>\n",
              "      <th class=\"index_name level0\" >Metric</th>\n",
              "      <th id=\"T_a6986_level0_col0\" class=\"col_heading level0 col0\" colspan=\"2\">Without gridsearch</th>\n",
              "      <th id=\"T_a6986_level0_col2\" class=\"col_heading level0 col2\" colspan=\"2\">With gridsearch</th>\n",
              "    </tr>\n",
              "    <tr>\n",
              "      <th class=\"index_name level1\" ></th>\n",
              "      <th id=\"T_a6986_level1_col0\" class=\"col_heading level1 col0\" >Without SMOTE</th>\n",
              "      <th id=\"T_a6986_level1_col1\" class=\"col_heading level1 col1\" >With SMOTE</th>\n",
              "      <th id=\"T_a6986_level1_col2\" class=\"col_heading level1 col2\" >Without SMOTE</th>\n",
              "      <th id=\"T_a6986_level1_col3\" class=\"col_heading level1 col3\" >With SMOTE</th>\n",
              "    </tr>\n",
              "  </thead>\n",
              "  <tbody>\n",
              "    <tr>\n",
              "      <th id=\"T_a6986_level0_row0\" class=\"row_heading level0 row0\" >accuracy</th>\n",
              "      <td id=\"T_a6986_row0_col0\" class=\"data row0 col0\" >84.24</td>\n",
              "      <td id=\"T_a6986_row0_col1\" class=\"data row0 col1\" >83.33</td>\n",
              "      <td id=\"T_a6986_row0_col2\" class=\"data row0 col2\" >85.33</td>\n",
              "      <td id=\"T_a6986_row0_col3\" class=\"data row0 col3\" >85.29</td>\n",
              "    </tr>\n",
              "    <tr>\n",
              "      <th id=\"T_a6986_level0_row1\" class=\"row_heading level0 row1\" >precision</th>\n",
              "      <td id=\"T_a6986_row1_col0\" class=\"data row1 col0\" >85.45</td>\n",
              "      <td id=\"T_a6986_row1_col1\" class=\"data row1 col1\" >82.73</td>\n",
              "      <td id=\"T_a6986_row1_col2\" class=\"data row1 col2\" >85.71</td>\n",
              "      <td id=\"T_a6986_row1_col3\" class=\"data row1 col3\" >83.93</td>\n",
              "    </tr>\n",
              "    <tr>\n",
              "      <th id=\"T_a6986_level0_row2\" class=\"row_heading level0 row2\" >recall</th>\n",
              "      <td id=\"T_a6986_row2_col0\" class=\"data row2 col0\" >87.85</td>\n",
              "      <td id=\"T_a6986_row2_col1\" class=\"data row2 col1\" >85.85</td>\n",
              "      <td id=\"T_a6986_row2_col2\" class=\"data row2 col2\" >89.72</td>\n",
              "      <td id=\"T_a6986_row2_col3\" class=\"data row2 col3\" >88.68</td>\n",
              "    </tr>\n",
              "    <tr>\n",
              "      <th id=\"T_a6986_level0_row3\" class=\"row_heading level0 row3\" >f1</th>\n",
              "      <td id=\"T_a6986_row3_col0\" class=\"data row3 col0\" >86.64</td>\n",
              "      <td id=\"T_a6986_row3_col1\" class=\"data row3 col1\" >84.26</td>\n",
              "      <td id=\"T_a6986_row3_col2\" class=\"data row3 col2\" >87.67</td>\n",
              "      <td id=\"T_a6986_row3_col3\" class=\"data row3 col3\" >86.24</td>\n",
              "    </tr>\n",
              "  </tbody>\n",
              "</table>\n"
            ]
          },
          "metadata": {}
        }
      ],
      "source": [
        "import pandas as pd\n",
        "from pandas.io.formats.style import Styler\n",
        "\n",
        "column_names = pd.DataFrame([[\"Without gridsearch\", \"Without SMOTE\"],\n",
        "                             [\"Without gridsearch\", \"With SMOTE\"],\n",
        "                             [\"With gridsearch\", \"Without SMOTE\"],\n",
        "                             [\"With gridsearch\", \"With SMOTE\"]],\n",
        "                             columns=[\"Metric\", \"\"])\n",
        "\n",
        "rows = [[acc1, acc2,acc3,acc4],\n",
        "        [prec1, prec2,prec3,prec4],\n",
        "        [rec1,rec2,rec3,rec4],\n",
        "        [f1_1,f1_2,f1_3,f1_4]]\n",
        "\n",
        "columns = pd.MultiIndex.from_frame(column_names)\n",
        "index = [\"accuracy\", \"precision\", \"recall\", \"f1\"]\n",
        "\n",
        "df = pd.DataFrame(rows, columns=columns, index=index)\n",
        "\n",
        "styler = Styler(df,precision = 2)\n",
        "styler.set_properties(**{'text-align': 'center'})\n",
        "\n",
        "display(styler)"
      ]
    },
    {
      "cell_type": "code",
      "execution_count": 31,
      "metadata": {
        "id": "5ESv4Ttq2nXD"
      },
      "outputs": [],
      "source": [
        "labels = [0,1]\n",
        "if pred_or_sev == \"sev\":\n",
        "    labels = [0,1,2,3,4]"
      ]
    },
    {
      "cell_type": "code",
      "execution_count": 34,
      "metadata": {
        "colab": {
          "base_uri": "https://localhost:8080/",
          "height": 466
        },
        "id": "TqkbgX0e2nXD",
        "outputId": "ae9cff18-bed3-48de-9394-6a81c5f3e3c8"
      },
      "outputs": [
        {
          "output_type": "display_data",
          "data": {
            "text/plain": [
              "<Figure size 640x480 with 2 Axes>"
            ],
            "image/png": "[encoded data removed]"
          },
          "metadata": {}
        },
        {
          "output_type": "display_data",
          "data": {
            "text/plain": [
              "<Figure size 640x480 with 0 Axes>"
            ]
          },
          "metadata": {}
        }
      ],
      "source": [
        "c = confusion_matrix(Y_test_SMOTE, Y_pred)\n",
        "\n",
        "cm_display = ConfusionMatrixDisplay(confusion_matrix = c, display_labels = labels)\n",
        "\n",
        "cm_display.plot()\n",
        "plt.show()\n",
        "plt.savefig(\"Confusion_matrix_XGBoost.png\")"
      ]
    }
  ],
  "metadata": {
    "colab": {
      "provenance": []
    },
    "kernelspec": {
      "display_name": "Python 3",
      "name": "python3"
    },
    "language_info": {
      "codemirror_mode": {
        "name": "ipython",
        "version": 3
      },
      "file_extension": ".py",
      "mimetype": "text/x-python",
      "name": "python",
      "nbconvert_exporter": "python",
      "pygments_lexer": "ipython3",
      "version": "3.10.12"
    }
  },
  "nbformat": 4,
  "nbformat_minor": 0
}